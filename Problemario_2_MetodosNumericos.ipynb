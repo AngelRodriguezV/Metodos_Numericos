{
  "nbformat": 4,
  "nbformat_minor": 0,
  "metadata": {
    "colab": {
      "name": "Problemario_2_MetodosNumericos.ipynb",
      "provenance": [],
      "collapsed_sections": [],
      "authorship_tag": "ABX9TyMRC5NZKLIykJfQssoY/JiI",
      "include_colab_link": true
    },
    "kernelspec": {
      "name": "python3",
      "display_name": "Python 3"
    },
    "language_info": {
      "name": "python"
    }
  },
  "cells": [
    {
      "cell_type": "markdown",
      "metadata": {
        "id": "view-in-github",
        "colab_type": "text"
      },
      "source": [
        "<a href=\"https://colab.research.google.com/github/AngelRodriguezV/Metodos_Numericos/blob/main/Problemario_2_MetodosNumericos.ipynb\" target=\"_parent\"><img src=\"https://colab.research.google.com/assets/colab-badge.svg\" alt=\"Open In Colab\"/></a>"
      ]
    },
    {
      "cell_type": "markdown",
      "metadata": {
        "id": "wByddTQtBm0M"
      },
      "source": [
        "# Métodos Númericos - Problemario 2"
      ]
    },
    {
      "cell_type": "markdown",
      "metadata": {
        "id": "_Y-lRrRAX3T2"
      },
      "source": [
        "Método de Bisección"
      ]
    },
    {
      "cell_type": "code",
      "metadata": {
        "id": "cGfy-9iJC4Ej"
      },
      "source": [
        "def sgn(x):\n",
        "            if x < 0:\n",
        "                return -1\n",
        "            if x == 0:\n",
        "                return 0\n",
        "            if x > 0:\n",
        "                return 1\n",
        "# Método de Bisección\n",
        "def metodo_biseccion(a,b,TOL,N,funcion):\n",
        "    print(\"n       a            b           p            f(p)\")\n",
        "    print(\"====================================================\")\n",
        "    for i in range(1, N + 1):\n",
        "        FA = funcion(a)\n",
        "        p = a + ((b - a) / 2)\n",
        "        FP = funcion(p)\n",
        "        print(\"%1i %11.8f %12.8f %12.8f %12.8f\"%(i,a,b,p,FP))\n",
        "        if FP == 0 or ((b - a) / 2) < TOL:\n",
        "            break\n",
        "        if (sgn(FA) * sgn(FP)) > 0:\n",
        "            a = p\n",
        "        else:\n",
        "            b = p"
      ],
      "execution_count": 11,
      "outputs": []
    },
    {
      "cell_type": "markdown",
      "metadata": {
        "id": "xSkZn4cNBwUU"
      },
      "source": [
        "1. Use el método de bisección para encontrar $p_3$ para $f(x)= \\sqrt{x}-\\cos x=0$ en $[0,1]$."
      ]
    },
    {
      "cell_type": "code",
      "metadata": {
        "colab": {
          "base_uri": "https://localhost:8080/"
        },
        "id": "cVsDObJYGsRg",
        "outputId": "526cf2e1-240f-4e6c-fd18-b52d6cd8cf1f"
      },
      "source": [
        "import math\n",
        "def f(x):\n",
        "    return math.sqrt(x) - math.cos(x)\n",
        "\n",
        "metodo_biseccion(0, 1, 0.01, 3, f)"
      ],
      "execution_count": 12,
      "outputs": [
        {
          "output_type": "stream",
          "text": [
            "n       a            b           p            f(p)\n",
            "====================================================\n",
            "1  0.00000000   1.00000000   0.50000000  -0.17047578\n",
            "2  0.50000000   1.00000000   0.75000000   0.13433653\n",
            "3  0.50000000   0.75000000   0.62500000  -0.02039370\n"
          ],
          "name": "stdout"
        }
      ]
    },
    {
      "cell_type": "markdown",
      "metadata": {
        "id": "blh4besIJtcj"
      },
      "source": [
        "2. Sea $f(x)=3(x+1)(x-\\frac{1}{2})(x-1)=0$. Use el método de bisección sobre los siguientes intervalos para encontrar $p_3$."
      ]
    },
    {
      "cell_type": "code",
      "metadata": {
        "id": "aaI_UaThM46C"
      },
      "source": [
        "def f(x):\n",
        "    return 3 * (x - 1) * (x - (1 / 2)) * (x - 1)"
      ],
      "execution_count": 13,
      "outputs": []
    },
    {
      "cell_type": "markdown",
      "metadata": {
        "id": "g7EE6LbfKoz-"
      },
      "source": [
        "A. $[-2,1.5]$"
      ]
    },
    {
      "cell_type": "code",
      "metadata": {
        "colab": {
          "base_uri": "https://localhost:8080/"
        },
        "id": "QKIjrF2JNL2h",
        "outputId": "75544a2d-b5b3-404a-c758-c06fb2921973"
      },
      "source": [
        "metodo_biseccion(-2, 1.5, 0.01, 3, f)"
      ],
      "execution_count": 14,
      "outputs": [
        {
          "output_type": "stream",
          "text": [
            "n       a            b           p            f(p)\n",
            "====================================================\n",
            "1 -2.00000000   1.50000000  -0.25000000  -3.51562500\n",
            "2 -0.25000000   1.50000000   0.62500000   0.05273438\n",
            "3 -0.25000000   0.62500000   0.18750000  -0.61889648\n"
          ],
          "name": "stdout"
        }
      ]
    },
    {
      "cell_type": "markdown",
      "metadata": {
        "id": "UnGDkSgeOKR9"
      },
      "source": [
        "B. $[-1.25,2.5]$"
      ]
    },
    {
      "cell_type": "code",
      "metadata": {
        "colab": {
          "base_uri": "https://localhost:8080/"
        },
        "id": "1WwK5hwcOWEZ",
        "outputId": "95ba6747-8089-44b5-84b1-afa5b16f1945"
      },
      "source": [
        "metodo_biseccion(-1.25, 2.5, 0.01, 3, f)"
      ],
      "execution_count": 15,
      "outputs": [
        {
          "output_type": "stream",
          "text": [
            "n       a            b           p            f(p)\n",
            "====================================================\n",
            "1 -1.25000000   2.50000000   0.62500000   0.05273438\n",
            "2 -1.25000000   0.62500000  -0.31250000  -4.19897461\n",
            "3 -0.31250000   0.62500000   0.15625000  -0.73416138\n"
          ],
          "name": "stdout"
        }
      ]
    },
    {
      "cell_type": "markdown",
      "metadata": {
        "id": "3Cpr8OgoOo1t"
      },
      "source": [
        "3. Use el método de bisección para encontrar soluciones precisas dentro de $10^{-2}$ para $x^3-7x^2+14x-6=0$ en cada intervalo."
      ]
    },
    {
      "cell_type": "code",
      "metadata": {
        "id": "vCklvq27PVoM"
      },
      "source": [
        "def f(x):\n",
        "    return (x ** 3) - (7 * (x ** 2)) + (14 * x) - 6"
      ],
      "execution_count": 16,
      "outputs": []
    },
    {
      "cell_type": "markdown",
      "metadata": {
        "id": "vdy2NRdNPxT4"
      },
      "source": [
        "A. $[0,1]$"
      ]
    },
    {
      "cell_type": "code",
      "metadata": {
        "colab": {
          "base_uri": "https://localhost:8080/"
        },
        "id": "yA8ZagzXQIfB",
        "outputId": "7d216e58-2634-460c-e7b4-a0ce300c1cc2"
      },
      "source": [
        "metodo_biseccion(0, 1, 0.01, 10, f)"
      ],
      "execution_count": 17,
      "outputs": [
        {
          "output_type": "stream",
          "text": [
            "n       a            b           p            f(p)\n",
            "====================================================\n",
            "1  0.00000000   1.00000000   0.50000000  -0.62500000\n",
            "2  0.50000000   1.00000000   0.75000000   0.98437500\n",
            "3  0.50000000   0.75000000   0.62500000   0.25976562\n",
            "4  0.50000000   0.62500000   0.56250000  -0.16186523\n",
            "5  0.56250000   0.62500000   0.59375000   0.05404663\n",
            "6  0.56250000   0.59375000   0.57812500  -0.05262375\n",
            "7  0.57812500   0.59375000   0.58593750   0.00103140\n"
          ],
          "name": "stdout"
        }
      ]
    },
    {
      "cell_type": "markdown",
      "metadata": {
        "id": "-cynD8_SP6va"
      },
      "source": [
        "B. $[1,3.2]$"
      ]
    },
    {
      "cell_type": "code",
      "metadata": {
        "colab": {
          "base_uri": "https://localhost:8080/"
        },
        "id": "m_bQ1umkQ2Qj",
        "outputId": "cdf83c07-5ad4-4506-cb31-2db00241cb16"
      },
      "source": [
        "metodo_biseccion(1, 3.2, 0.01, 10, f)"
      ],
      "execution_count": 18,
      "outputs": [
        {
          "output_type": "stream",
          "text": [
            "n       a            b           p            f(p)\n",
            "====================================================\n",
            "1  1.00000000   3.20000000   2.10000000   1.79100000\n",
            "2  2.10000000   3.20000000   2.65000000   0.55212500\n",
            "3  2.65000000   3.20000000   2.92500000   0.08582813\n",
            "4  2.92500000   3.20000000   3.06250000  -0.05444336\n",
            "5  2.92500000   3.06250000   2.99375000   0.00632788\n",
            "6  2.99375000   3.06250000   3.02812500  -0.02652072\n",
            "7  2.99375000   3.02812500   3.01093750  -0.01069693\n",
            "8  2.99375000   3.01093750   3.00234375  -0.00233275\n"
          ],
          "name": "stdout"
        }
      ]
    },
    {
      "cell_type": "markdown",
      "metadata": {
        "id": "yU1RKbZbQBJX"
      },
      "source": [
        "C. $[3.2,4]$"
      ]
    },
    {
      "cell_type": "code",
      "metadata": {
        "colab": {
          "base_uri": "https://localhost:8080/"
        },
        "id": "EJ5xQJLWRRaT",
        "outputId": "f8078405-2fb0-466e-f13e-0094fa327a74"
      },
      "source": [
        "metodo_biseccion(3.2, 4, 0.01, 10, f)"
      ],
      "execution_count": 19,
      "outputs": [
        {
          "output_type": "stream",
          "text": [
            "n       a            b           p            f(p)\n",
            "====================================================\n",
            "1  3.20000000   4.00000000   3.60000000   0.33600000\n",
            "2  3.20000000   3.60000000   3.40000000  -0.01600000\n",
            "3  3.40000000   3.60000000   3.50000000   0.12500000\n",
            "4  3.40000000   3.50000000   3.45000000   0.04612500\n",
            "5  3.40000000   3.45000000   3.42500000   0.01301563\n",
            "6  3.40000000   3.42500000   3.41250000  -0.00199805\n",
            "7  3.41250000   3.42500000   3.41875000   0.00538159\n"
          ],
          "name": "stdout"
        }
      ]
    },
    {
      "cell_type": "markdown",
      "metadata": {
        "id": "Mywf89vyR3Et"
      },
      "source": [
        "4. Use el método de bisección para encontrar soluciones precisas dentro de $10^{-2}$ para $x^4-2x^3-4x^2+4x+4=0$ en cada intervalo."
      ]
    },
    {
      "cell_type": "code",
      "metadata": {
        "id": "aBkwDzJGWXBU"
      },
      "source": [
        "def f(x):\n",
        "    return (x ** 4) - (2 * (x ** 3)) - (4 * (x ** 2)) + (4 * x) + 4"
      ],
      "execution_count": 20,
      "outputs": []
    },
    {
      "cell_type": "markdown",
      "metadata": {
        "id": "NqwUXODkSmUf"
      },
      "source": [
        "A. $[-2,-1]$"
      ]
    },
    {
      "cell_type": "code",
      "metadata": {
        "colab": {
          "base_uri": "https://localhost:8080/"
        },
        "id": "FFarnr9cWxhn",
        "outputId": "6a153559-39c5-4980-9b49-08d86906b623"
      },
      "source": [
        "metodo_biseccion(-2, -1, 0.01, 10, f)"
      ],
      "execution_count": 21,
      "outputs": [
        {
          "output_type": "stream",
          "text": [
            "n       a            b           p            f(p)\n",
            "====================================================\n",
            "1 -2.00000000  -1.00000000  -1.50000000   0.81250000\n",
            "2 -1.50000000  -1.00000000  -1.25000000  -0.90234375\n",
            "3 -1.50000000  -1.25000000  -1.37500000  -0.28881836\n",
            "4 -1.50000000  -1.37500000  -1.43750000   0.19532776\n",
            "5 -1.43750000  -1.37500000  -1.40625000  -0.06266689\n",
            "6 -1.43750000  -1.40625000  -1.42187500   0.06226259\n",
            "7 -1.42187500  -1.40625000  -1.41406250  -0.00120812\n"
          ],
          "name": "stdout"
        }
      ]
    },
    {
      "cell_type": "markdown",
      "metadata": {
        "id": "4Arh-2EFSrqU"
      },
      "source": [
        "B. $[0,2]$"
      ]
    },
    {
      "cell_type": "code",
      "metadata": {
        "colab": {
          "base_uri": "https://localhost:8080/"
        },
        "id": "-M-lEM1tXfKs",
        "outputId": "e6a3a927-675a-4a45-a214-38c00acfe395"
      },
      "source": [
        "metodo_biseccion(0, 2, 0.01, 10, f)"
      ],
      "execution_count": 22,
      "outputs": [
        {
          "output_type": "stream",
          "text": [
            "n       a            b           p            f(p)\n",
            "====================================================\n",
            "1  0.00000000   2.00000000   1.00000000   3.00000000\n",
            "2  1.00000000   2.00000000   1.50000000  -0.68750000\n",
            "3  1.00000000   1.50000000   1.25000000   1.28515625\n",
            "4  1.25000000   1.50000000   1.37500000   0.31274414\n",
            "5  1.37500000   1.50000000   1.43750000  -0.18650818\n",
            "6  1.37500000   1.43750000   1.40625000   0.06367588\n",
            "7  1.40625000   1.43750000   1.42187500  -0.06131834\n",
            "8  1.40625000   1.42187500   1.41406250   0.00120849\n"
          ],
          "name": "stdout"
        }
      ]
    },
    {
      "cell_type": "markdown",
      "metadata": {
        "id": "j3zm5SWhSv4v"
      },
      "source": [
        "C. $[2,3]$"
      ]
    },
    {
      "cell_type": "code",
      "metadata": {
        "colab": {
          "base_uri": "https://localhost:8080/"
        },
        "id": "7EguX-wqXniL",
        "outputId": "ba18d5e8-a822-4b50-b6ce-2ae9a30a5858"
      },
      "source": [
        "metodo_biseccion(2, 3, 0.01, 10, f)"
      ],
      "execution_count": 23,
      "outputs": [
        {
          "output_type": "stream",
          "text": [
            "n       a            b           p            f(p)\n",
            "====================================================\n",
            "1  2.00000000   3.00000000   2.50000000  -3.18750000\n",
            "2  2.50000000   3.00000000   2.75000000   0.34765625\n",
            "3  2.50000000   2.75000000   2.62500000  -1.75756836\n",
            "4  2.62500000   2.75000000   2.68750000  -0.79563904\n",
            "5  2.68750000   2.75000000   2.71875000  -0.24746609\n",
            "6  2.71875000   2.75000000   2.73437500   0.04412466\n",
            "7  2.71875000   2.73437500   2.72656250  -0.10315054\n"
          ],
          "name": "stdout"
        }
      ]
    },
    {
      "cell_type": "markdown",
      "metadata": {
        "id": "RCU7FHTdS0NQ"
      },
      "source": [
        "D. $[-1,0]$"
      ]
    },
    {
      "cell_type": "code",
      "metadata": {
        "colab": {
          "base_uri": "https://localhost:8080/"
        },
        "id": "ziVDrstEXu8G",
        "outputId": "b411b970-df4d-4583-e86a-80a07c98d5ed"
      },
      "source": [
        "metodo_biseccion(-1, 0, 0.01, 10, f)"
      ],
      "execution_count": 24,
      "outputs": [
        {
          "output_type": "stream",
          "text": [
            "n       a            b           p            f(p)\n",
            "====================================================\n",
            "1 -1.00000000   0.00000000  -0.50000000   1.31250000\n",
            "2 -1.00000000  -0.50000000  -0.75000000  -0.08984375\n",
            "3 -0.75000000  -0.50000000  -0.62500000   0.57836914\n",
            "4 -0.75000000  -0.62500000  -0.68750000   0.23268127\n",
            "5 -0.75000000  -0.68750000  -0.71875000   0.06808567\n",
            "6 -0.75000000  -0.71875000  -0.73437500  -0.01176828\n",
            "7 -0.73437500  -0.71875000  -0.72656250   0.02794344\n"
          ],
          "name": "stdout"
        }
      ]
    },
    {
      "cell_type": "markdown",
      "metadata": {
        "id": "zF98p5VSagNE"
      },
      "source": [
        "Método de Punto Fijo"
      ]
    },
    {
      "cell_type": "code",
      "metadata": {
        "id": "3uHvX-FTamw2"
      },
      "source": [
        "def metodo_punto_fijo(p0, TOL, N, G):\n",
        "    print(\"n       p0           p\")\n",
        "    print(\"==========================\")\n",
        "    for i in range(0, N):\n",
        "        p = G(p0)\n",
        "        print(\"%1i %11.8f %12.8f\"%(i, p0, p))\n",
        "        if abs(p - p0) < TOL:\n",
        "            break\n",
        "        p0 = p"
      ],
      "execution_count": null,
      "outputs": []
    },
    {
      "cell_type": "markdown",
      "metadata": {
        "id": "gi69k4AKTRn1"
      },
      "source": [
        "5. Use el método de iteración de punto fijo para determinar una solución precisa dentro de $10^{-2}$ para $x^4-3x^2-3=0$ en $[1,2]$. Utilice $p_0 = 1$.  \n",
        "$g(x)=(3x^2+3)^{\\frac{1}{4}}$"
      ]
    },
    {
      "cell_type": "code",
      "metadata": {
        "colab": {
          "base_uri": "https://localhost:8080/"
        },
        "id": "ot7Sb3Ilc0mO",
        "outputId": "08ed721b-b287-41b2-8041-a80330e53f34"
      },
      "source": [
        "def g(x):\n",
        "    return (3 * (x ** 2) + 3) ** (1 / 4)\n",
        "\n",
        "metodo_punto_fijo(1, 0.01, 10, g)"
      ],
      "execution_count": null,
      "outputs": [
        {
          "output_type": "stream",
          "text": [
            "n       p0           p\n",
            "==========================\n",
            "0  1.00000000   1.56508458\n",
            "1  1.56508458   1.79357288\n",
            "2  1.79357288   1.88594374\n",
            "3  1.88594374   1.92284784\n",
            "4  1.92284784   1.93750754\n",
            "5  1.93750754   1.94331693\n"
          ],
          "name": "stdout"
        }
      ]
    },
    {
      "cell_type": "markdown",
      "metadata": {
        "id": "Ev2zI96EUGtl"
      },
      "source": [
        "6. Use el método de iteración de punto fijo para determinar una solución exacta dentro de $10^{-2}$ para $x^3-x-1=0$ en $[1,2]$. Use $p_0=1$.  \n",
        "$g(x)=(x+1)^{\\frac{1}{3}}$"
      ]
    },
    {
      "cell_type": "code",
      "metadata": {
        "colab": {
          "base_uri": "https://localhost:8080/"
        },
        "id": "CcYYBBQOf0ns",
        "outputId": "651271dd-3240-40b9-921e-f2644460e555"
      },
      "source": [
        "def g(x):\n",
        "    return (x + 1) ** (1 / 3)\n",
        "\n",
        "metodo_punto_fijo(1, 0.01, 10, g)"
      ],
      "execution_count": null,
      "outputs": [
        {
          "output_type": "stream",
          "text": [
            "n       p0           p\n",
            "==========================\n",
            "0  1.00000000   1.25992105\n",
            "1  1.25992105   1.31229384\n",
            "2  1.31229384   1.32235382\n",
            "3  1.32235382   1.32426874\n"
          ],
          "name": "stdout"
        }
      ]
    },
    {
      "cell_type": "markdown",
      "metadata": {
        "id": "FQRap3jegZhN"
      },
      "source": [
        "Método de Newton"
      ]
    },
    {
      "cell_type": "code",
      "metadata": {
        "id": "xBZ4ywb3gYYL"
      },
      "source": [
        "def metodo_newton(p0, TOL, N, f, fDx):\n",
        "    print(\"n       p0           p\")\n",
        "    print(\"==========================\")\n",
        "    for i in range(0, N + 1):\n",
        "        p = p0 - (f(p0) / fDx(p0))\n",
        "        print(\"%1i %11.8f %12.8f\"%(i, p0, p))\n",
        "        if abs(p - p0) < TOL:\n",
        "            break\n",
        "        p0 = p"
      ],
      "execution_count": 4,
      "outputs": []
    },
    {
      "cell_type": "markdown",
      "metadata": {
        "id": "amqlpEXpUzgz"
      },
      "source": [
        "7. Sea $f(x)=x^2-6$ y $p_0=1$. Use el método de Newton para encontrar $p_2$.  \n",
        "$f^{'}(x)=2x$"
      ]
    },
    {
      "cell_type": "code",
      "metadata": {
        "colab": {
          "base_uri": "https://localhost:8080/"
        },
        "id": "nSahq9ieiR5E",
        "outputId": "72ce1ae8-6889-4b92-c97f-0c96ffe7c8c1"
      },
      "source": [
        "def f(x):\n",
        "    return (x ** 2) - 6\n",
        "\n",
        "def fDx(x):\n",
        "    return 2 ** x\n",
        "\n",
        "metodo_newton(1, 0.01, 2, f, fDx)"
      ],
      "execution_count": null,
      "outputs": [
        {
          "output_type": "stream",
          "text": [
            "n       p0           p\n",
            "==========================\n",
            "0  1.00000000   3.50000000\n",
            "1  3.50000000   2.94757283\n",
            "2  2.94757283   2.59911405\n"
          ],
          "name": "stdout"
        }
      ]
    },
    {
      "cell_type": "markdown",
      "metadata": {
        "id": "IgeSsTm3VPFu"
      },
      "source": [
        "8. Sea $f(x)=-x^3-\\cos x$ y $p_0=-1$. Use el método de Newton para encontrar $p_2$.  \n",
        "$f^{'}(x)=-3x^2+\\sin x$"
      ]
    },
    {
      "cell_type": "code",
      "metadata": {
        "colab": {
          "base_uri": "https://localhost:8080/"
        },
        "id": "puduS59ZjBEf",
        "outputId": "f32a2ab5-e5f2-48ff-c840-5b030e97113a"
      },
      "source": [
        "import math\n",
        "def f(x):\n",
        "    return ((-x) ** 3) - math.cos(x)\n",
        "\n",
        "def fDx(x):\n",
        "    return ((-3)  * (x ** 2)) + math.sin(x)\n",
        "\n",
        "metodo_newton(-1, 0.01, 2, f, fDx)"
      ],
      "execution_count": null,
      "outputs": [
        {
          "output_type": "stream",
          "text": [
            "n       p0           p\n",
            "==========================\n",
            "0 -1.00000000  -0.88033290\n",
            "1 -0.88033290  -0.86568416\n",
            "2 -0.86568416  -0.86547408\n"
          ],
          "name": "stdout"
        }
      ]
    },
    {
      "cell_type": "markdown",
      "metadata": {
        "id": "7HZgil-EoCaU"
      },
      "source": [
        "Método de la Secante"
      ]
    },
    {
      "cell_type": "code",
      "metadata": {
        "id": "vl0xmjOMoNIP"
      },
      "source": [
        "def metodo_secante(p0, p1, TOL, N, f):\n",
        "    print(\"n       p0           p1           p\")\n",
        "    print(\"=======================================\")\n",
        "    for i in range(2, N + 1):\n",
        "        q0 = f(p0)\n",
        "        q1 = f(p1)\n",
        "        p = p1 - (q1 * (p1 - p0)) / (q1 - q0)\n",
        "        print(\"%1i %11.8f %12.8f %12.8f\"%(i, p0, p1, p))\n",
        "        if abs(p - p1) < TOL:\n",
        "            break\n",
        "        p0 = p1\n",
        "        p1 = p"
      ],
      "execution_count": null,
      "outputs": []
    },
    {
      "cell_type": "markdown",
      "metadata": {
        "id": "t-OlWtcPoHx8"
      },
      "source": [
        "Método de Posición Falsa"
      ]
    },
    {
      "cell_type": "code",
      "metadata": {
        "id": "vUp_y76SoNeU"
      },
      "source": [
        "def metodo_posicion_falsa(p0, p1, TOL, N, f):\n",
        "    print(\"n       p0           p1           p\")\n",
        "    print(\"=======================================\")\n",
        "    for i in range(2, N + 1):\n",
        "        q0 = f(p0)\n",
        "        q1 = f(p1)\n",
        "        p = p1 - (q1 * (p1 - p0)) / (q1 - q0)\n",
        "        print(\"%1i %11.8f %12.8f %12.8f\"%(i, p0, p1, p))\n",
        "        if abs(p - p1) < TOL:\n",
        "            break\n",
        "        q = f(p)\n",
        "        if (q * q1) < 0:\n",
        "            p0 = p1\n",
        "        p1 = p"
      ],
      "execution_count": null,
      "outputs": []
    },
    {
      "cell_type": "markdown",
      "metadata": {
        "id": "URm_uU97mK_3"
      },
      "source": [
        "9. Sea $f(x)=x^2-6$. Con $p_0=3$ y $p_1=2$. Encuentre $p_3$."
      ]
    },
    {
      "cell_type": "code",
      "metadata": {
        "id": "ZMNzUz3Fy6wr"
      },
      "source": [
        "def f(x):\n",
        "    return (x ** 2) - 6"
      ],
      "execution_count": null,
      "outputs": []
    },
    {
      "cell_type": "markdown",
      "metadata": {
        "id": "V4kwBOzemqlP"
      },
      "source": [
        "A. Use el método de la secante."
      ]
    },
    {
      "cell_type": "code",
      "metadata": {
        "colab": {
          "base_uri": "https://localhost:8080/"
        },
        "id": "9ukYbB-By1NQ",
        "outputId": "33156109-922a-4382-bdf4-f6f96f07b3f2"
      },
      "source": [
        "metodo_secante(3, 2, 0.01, 3, f)"
      ],
      "execution_count": null,
      "outputs": [
        {
          "output_type": "stream",
          "text": [
            "n       p0           p1           p\n",
            "=======================================\n",
            "2  3.00000000   2.00000000   2.40000000\n",
            "3  2.00000000   2.40000000   2.45454545\n"
          ],
          "name": "stdout"
        }
      ]
    },
    {
      "cell_type": "markdown",
      "metadata": {
        "id": "1A6nND0bmwP-"
      },
      "source": [
        "B. Use el método de posición falsa."
      ]
    },
    {
      "cell_type": "code",
      "metadata": {
        "colab": {
          "base_uri": "https://localhost:8080/"
        },
        "id": "WeAo39kz3HYx",
        "outputId": "7d0a0c0e-d1ae-43c2-92ac-9af6346e49ed"
      },
      "source": [
        "metodo_posicion_falsa(3, 2, 0.01, 3, f)"
      ],
      "execution_count": null,
      "outputs": [
        {
          "output_type": "stream",
          "text": [
            "n       p0           p1           p\n",
            "=======================================\n",
            "2  3.00000000   2.00000000   2.40000000\n",
            "3  3.00000000   2.40000000   2.44444444\n"
          ],
          "name": "stdout"
        }
      ]
    },
    {
      "cell_type": "markdown",
      "metadata": {
        "id": "Dj2hGu1mnRxg"
      },
      "source": [
        "10. Sea $f(x)=-x^3-\\cos{x}$. Con $p_0=-1$ y $p_1=0$, encuentre $p_3$."
      ]
    },
    {
      "cell_type": "code",
      "metadata": {
        "id": "PU0S3UNK5-s-"
      },
      "source": [
        "import math\n",
        "def f(x):\n",
        "    return ((-x) ** 3) - math.cos(x)"
      ],
      "execution_count": null,
      "outputs": []
    },
    {
      "cell_type": "markdown",
      "metadata": {
        "id": "CdLq9-j74Qpk"
      },
      "source": [
        "A. Use el método de la secante."
      ]
    },
    {
      "cell_type": "code",
      "metadata": {
        "colab": {
          "base_uri": "https://localhost:8080/"
        },
        "id": "bpH-ey3J6ShF",
        "outputId": "a7cfdeb1-a875-4a44-dfc3-55be4db78492"
      },
      "source": [
        "metodo_secante(-1, 0, 0.01, 3, f)"
      ],
      "execution_count": null,
      "outputs": [
        {
          "output_type": "stream",
          "text": [
            "n       p0           p1           p\n",
            "=======================================\n",
            "2 -1.00000000   0.00000000  -0.68507336\n",
            "3  0.00000000  -0.68507336  -1.25207649\n"
          ],
          "name": "stdout"
        }
      ]
    },
    {
      "cell_type": "markdown",
      "metadata": {
        "id": "wmWcG0PX4WcB"
      },
      "source": [
        "B. Use el método de posición falsa."
      ]
    },
    {
      "cell_type": "code",
      "metadata": {
        "colab": {
          "base_uri": "https://localhost:8080/"
        },
        "id": "B7d8lqjL6crq",
        "outputId": "f94a2908-3fab-414a-d86f-6906db04621a"
      },
      "source": [
        "metodo_posicion_falsa(-1, 0, 0.01, 3, f)"
      ],
      "execution_count": null,
      "outputs": [
        {
          "output_type": "stream",
          "text": [
            "n       p0           p1           p\n",
            "=======================================\n",
            "2 -1.00000000   0.00000000  -0.68507336\n",
            "3 -1.00000000  -0.68507336  -0.84135513\n"
          ],
          "name": "stdout"
        }
      ]
    },
    {
      "cell_type": "markdown",
      "metadata": {
        "id": "fS0T0tuj4eTZ"
      },
      "source": [
        "11. Use el método de Newton para  encontrar soluciones precisas dentro de $10^{-4}$ para los siguientes problemas."
      ]
    },
    {
      "cell_type": "markdown",
      "metadata": {
        "id": "NT6S5sTS44Ow"
      },
      "source": [
        "A. $x^3-2x^2-5=0,[1,4]$  \n",
        "$f^{'}(x)=3x^2-4x$"
      ]
    },
    {
      "cell_type": "code",
      "metadata": {
        "colab": {
          "base_uri": "https://localhost:8080/"
        },
        "id": "r3BbRDmy6k2C",
        "outputId": "51c2a67d-9b2d-4152-da14-4940696dae59"
      },
      "source": [
        "def f(x):\n",
        "    return (x ** 3) - (2 * (x ** 2)) - 5\n",
        "\n",
        "def fDx(x):\n",
        "    return (3 * (x ** 2)) - (4 * x)\n",
        "\n",
        "metodo_newton(2, 10E-4, 10, f, fDx)"
      ],
      "execution_count": null,
      "outputs": [
        {
          "output_type": "stream",
          "text": [
            "n       p0           p\n",
            "==========================\n",
            "0  2.00000000   3.25000000\n",
            "1  3.25000000   2.81103679\n",
            "2  2.81103679   2.69798950\n",
            "3  2.69798950   2.69067715\n",
            "4  2.69067715   2.69064745\n"
          ],
          "name": "stdout"
        }
      ]
    },
    {
      "cell_type": "markdown",
      "metadata": {
        "id": "CkXKj7XF5Eyw"
      },
      "source": [
        "B. $x^3+3x^2-1=0,[3,-2]$  \n",
        "$f^{'}(x)=3x^2+6x$"
      ]
    },
    {
      "cell_type": "code",
      "metadata": {
        "colab": {
          "base_uri": "https://localhost:8080/"
        },
        "id": "c5RFX29Z6l50",
        "outputId": "d53aa274-b9b6-4841-d878-157268da29e7"
      },
      "source": [
        "def f(x):\n",
        "    return (x ** 3) + (3 * (x ** 2))  - 1\n",
        "\n",
        "def fDx(x):\n",
        "    return (3 * (x ** 2)) + (6 * x)\n",
        "\n",
        "metodo_newton(2, 10E-4, 10, f, fDx)"
      ],
      "execution_count": null,
      "outputs": [
        {
          "output_type": "stream",
          "text": [
            "n       p0           p\n",
            "==========================\n",
            "0  2.00000000   1.20833333\n",
            "1  1.20833333   0.76599741\n",
            "2  0.76599741   0.57567947\n",
            "3  0.57567947   0.53408947\n",
            "4  0.53408947   0.53209342\n",
            "5  0.53209342   0.53208889\n"
          ],
          "name": "stdout"
        }
      ]
    },
    {
      "cell_type": "markdown",
      "metadata": {
        "id": "bZaARRk55V13"
      },
      "source": [
        "C. $x-\\cos{x}=0,[0,\\frac{\\pi}{2}]$  \n",
        "$f^{'}(x)=1+\\sin{x}$"
      ]
    },
    {
      "cell_type": "code",
      "metadata": {
        "id": "xuwf9y7L6mUN",
        "colab": {
          "base_uri": "https://localhost:8080/"
        },
        "outputId": "8082bbe0-342b-49cc-c69a-ae0b9c79f738"
      },
      "source": [
        "import math\n",
        "def f(x):\n",
        "    return x - math.cos(x)\n",
        "\n",
        "def fDx(x):\n",
        "    return  1 + math.sin(x)\n",
        "\n",
        "metodo_newton(1, 0.01, 10, f, fDx)"
      ],
      "execution_count": 7,
      "outputs": [
        {
          "output_type": "stream",
          "text": [
            "n       p0           p\n",
            "==========================\n",
            "0  1.00000000   0.75036387\n",
            "1  0.75036387   0.73911289\n",
            "2  0.73911289   0.73908513\n"
          ],
          "name": "stdout"
        }
      ]
    },
    {
      "cell_type": "markdown",
      "metadata": {
        "id": "85VGAYeu5mk4"
      },
      "source": [
        "D. $x-0.8-0.2\\sin{x}=0,[0,\\frac{\\pi}{2}]$  \n",
        "$f^{'}(x)=1-0.2\\cos{x}$"
      ]
    },
    {
      "cell_type": "code",
      "metadata": {
        "id": "ZsZvlfeB6msj",
        "colab": {
          "base_uri": "https://localhost:8080/"
        },
        "outputId": "bd17e94d-71aa-4797-cfc0-e4cb5c244e42"
      },
      "source": [
        "import math\n",
        "def f(x):\n",
        "    return x - 0.8 - (0.2 * math.sin(x))\n",
        "\n",
        "def fDx(x):\n",
        "    return 1 - (0.2 * math.cos(x))\n",
        "\n",
        "metodo_newton(1, 0.01, 10, f, fDx)"
      ],
      "execution_count": 8,
      "outputs": [
        {
          "output_type": "stream",
          "text": [
            "n       p0           p\n",
            "==========================\n",
            "0  1.00000000   0.96445297\n",
            "1  0.96445297   0.96433389\n"
          ],
          "name": "stdout"
        }
      ]
    }
  ]
}