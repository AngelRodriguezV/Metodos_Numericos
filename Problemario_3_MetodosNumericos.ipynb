{
  "nbformat": 4,
  "nbformat_minor": 0,
  "metadata": {
    "colab": {
      "name": "Problemario_3_MetodosNumericos.ipynb",
      "provenance": [],
      "collapsed_sections": [],
      "authorship_tag": "ABX9TyMHwv5grcWalz/pi0bVP/li",
      "include_colab_link": true
    },
    "kernelspec": {
      "name": "python3",
      "display_name": "Python 3"
    },
    "language_info": {
      "name": "python"
    }
  },
  "cells": [
    {
      "cell_type": "markdown",
      "metadata": {
        "id": "view-in-github",
        "colab_type": "text"
      },
      "source": [
        "<a href=\"https://colab.research.google.com/github/AngelRodriguezV/Problemario_3/blob/main/Problemario_3_MetodosNumericos.ipynb\" target=\"_parent\"><img src=\"https://colab.research.google.com/assets/colab-badge.svg\" alt=\"Open In Colab\"/></a>"
      ]
    },
    {
      "cell_type": "markdown",
      "metadata": {
        "id": "G7qBXaa0Zvo3"
      },
      "source": [
        "# **Problemario**\n"
      ]
    },
    {
      "cell_type": "markdown",
      "metadata": {
        "id": "8_EU3EV7igHM"
      },
      "source": [
        "## Método de Steffensen"
      ]
    },
    {
      "cell_type": "code",
      "metadata": {
        "id": "m9r1FUA-ZrE6"
      },
      "source": [
        "def metodo_steffensen(p0, N, g):\n",
        "    '''Método de Steffensen\n",
        "    Parámetros:\n",
        "    \\n p0: Es una aproximación inicial.\n",
        "    \\n N: Es el número de iteraciones a realizar.\n",
        "    \\n g: Es una funcion de punto fijo g(x).\n",
        "    '''\n",
        "    print('n    p0        p1        p3')\n",
        "    print('================================')\n",
        "    # Iniciamos la iteración\n",
        "    for i in range(0, N):\n",
        "        # Calculamos p1 evaluando la funcion con p0\n",
        "        p1 = g(p0)\n",
        "        # Calculamos p2 evaluando la funcion con p1\n",
        "        p2 = g(p1)\n",
        "        # Calculamos p\n",
        "        p = p0 - ((p1 - p0) ** 2) / (p2 - (2 * p1) + p0)\n",
        "        print(\"%1i %10.5f %9.5f %9.5f\"%(i, p0, p1, p2))\n",
        "        # Asignamos el valor de p a p0 para la siguiente iteración\n",
        "        p0 = p"
      ],
      "execution_count": null,
      "outputs": []
    },
    {
      "cell_type": "markdown",
      "metadata": {
        "id": "UbQ_RMvUaSXU"
      },
      "source": [
        "3. Sea $g(x) = cos(x-1)$ y $p_{0}^{(0)} = 2$. Use el médoto de Steffensen para encontrar $p_{0}^{(1)}$.\n",
        "\n"
      ]
    },
    {
      "cell_type": "code",
      "metadata": {
        "id": "rbXIumf4cnMC",
        "colab": {
          "base_uri": "https://localhost:8080/"
        },
        "outputId": "01f3501d-1387-4e63-893f-13b36f61a2a6"
      },
      "source": [
        "import math\n",
        "# Implementamos la función g(x).\n",
        "def g(x):\n",
        "    return math.cos(x - 1)\n",
        "\n",
        "metodo_steffensen(2, 2, g)"
      ],
      "execution_count": null,
      "outputs": [
        {
          "output_type": "stream",
          "text": [
            "n    p0        p1        p3\n",
            "================================\n",
            "0    2.00000   0.54030   0.89619\n",
            "1    0.82643   0.98497   0.99989\n"
          ],
          "name": "stdout"
        }
      ]
    },
    {
      "cell_type": "markdown",
      "metadata": {
        "id": "qVc0NbPhdlY9"
      },
      "source": [
        "4. Sea $g(x) = 1 + sen(x)^2$ y $p_0^{(0)} = 1$. Use el médoto de Steffensen para encontrar $p_0^{(1)}$ y $p_0^{(2)}$."
      ]
    },
    {
      "cell_type": "code",
      "metadata": {
        "id": "240ZxZpgenjL",
        "colab": {
          "base_uri": "https://localhost:8080/"
        },
        "outputId": "53a5adcc-58f5-4eb3-d6ff-f59a9e26bfbd"
      },
      "source": [
        "import math\n",
        "# Implementamos la función g(x).\n",
        "def g(x):\n",
        "    return 1 + (math.sin(x)) ** 2\n",
        "\n",
        "metodo_steffensen(1, 3, g)"
      ],
      "execution_count": 4,
      "outputs": [
        {
          "output_type": "stream",
          "text": [
            "n    p0        p1        p3\n",
            "================================\n",
            "0    1.00000   1.70807   1.98127\n",
            "1    2.15290   1.69774   1.98397\n",
            "2    1.87346   1.91116   1.88856\n"
          ],
          "name": "stdout"
        }
      ]
    }
  ]
}