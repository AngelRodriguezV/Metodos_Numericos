{
  "nbformat": 4,
  "nbformat_minor": 0,
  "metadata": {
    "colab": {
      "name": "Problemario_3_MetodosNumericos.ipynb",
      "provenance": [],
      "collapsed_sections": [],
      "authorship_tag": "ABX9TyMkCd4GK3lZ5eRcfJVKRtlj",
      "include_colab_link": true
    },
    "kernelspec": {
      "name": "python3",
      "display_name": "Python 3"
    },
    "language_info": {
      "name": "python"
    }
  },
  "cells": [
    {
      "cell_type": "markdown",
      "metadata": {
        "id": "view-in-github",
        "colab_type": "text"
      },
      "source": [
        "<a href=\"https://colab.research.google.com/github/AngelRodriguezV/Metodos_Numericos/blob/main/Problemario_3_MetodosNumericos.ipynb\" target=\"_parent\"><img src=\"https://colab.research.google.com/assets/colab-badge.svg\" alt=\"Open In Colab\"/></a>"
      ]
    },
    {
      "cell_type": "markdown",
      "metadata": {
        "id": "wByddTQtBm0M"
      },
      "source": [
        "# Métodos Númericos - Problemario 3"
      ]
    },
    {
      "cell_type": "markdown",
      "metadata": {
        "id": "Fq2aYbErFP9A"
      },
      "source": [
        "## Método $\\Delta^2$ de Aitken\n",
        "Implementación del método de Aitke."
      ]
    },
    {
      "cell_type": "code",
      "metadata": {
        "id": "WggSc0r7FarQ"
      },
      "source": [
        "def metodo_Aitken(p0, N, pN):\n",
        "    '''Método de Aiken\n",
        "    Parámetros:  \n",
        "    p0: Es una aproximación inicial.  \n",
        "    N: Es el numero de iteraciones a reealizar.  \n",
        "    pN: La funcion para calcular Pn.\n",
        "    '''\n",
        "    print('n    Pn        Pn      ')\n",
        "    print('=========================')\n",
        "    # Iniciamos la iteración\n",
        "    for i in range(0,N + 1):\n",
        "        p1 = pN(i + 1)\n",
        "        p2 = pN(i + 2)\n",
        "        p = p0 - ((p1 - p0) ** 2) / (p2 - (2 * p1) + p0)\n",
        "        print(\"%1i %10.5f %12.8f\"%(i, p0, p))\n",
        "        p0 = p1"
      ],
      "execution_count": 27,
      "outputs": []
    },
    {
      "cell_type": "markdown",
      "metadata": {
        "id": "gi6P0tlRU79p"
      },
      "source": [
        "1. Las siguientes sucesiones son linealmente convergentes. Genere los primeros cinco términos de la sucesión  con el médoto de Aitken."
      ]
    },
    {
      "cell_type": "markdown",
      "metadata": {
        "id": "hkiEjlv-QG_m"
      },
      "source": [
        "a. $p_0 = 0.5 , P_n = (2-e^{P_{n-1}}+P_{n-1}^2)/3 , n \\ge 1$"
      ]
    },
    {
      "cell_type": "code",
      "metadata": {
        "colab": {
          "base_uri": "https://localhost:8080/"
        },
        "id": "0zYI5CGdLRc4",
        "outputId": "c1bc24f6-4058-46b0-dbb3-9dda0d770617"
      },
      "source": [
        "import math\n",
        "# Implementamos la funcion para calcular Pn.\n",
        "def pN(p0):\n",
        "    return (2 - (math.e ** p0) + (p0 ** 2)) / 3\n",
        "\n",
        "metodo_Aitken(0.5, 5, pN)"
      ],
      "execution_count": 34,
      "outputs": [
        {
          "output_type": "stream",
          "text": [
            "n    Pn        Pn      \n",
            "=========================\n",
            "0    0.50000   1.59335941\n",
            "1    0.09391   0.24832704\n",
            "2   -0.46302   0.53340543\n",
            "3   -3.02851   1.37470020\n",
            "4  -12.19938   2.86250424\n",
            "5  -40.47105   5.03190295\n"
          ],
          "name": "stdout"
        }
      ]
    },
    {
      "cell_type": "markdown",
      "metadata": {
        "id": "VfS-zdd7Sygc"
      },
      "source": [
        "b. $p_0 = 0.75 , P_n = (e^{P_{n-1}}/3)^{1/2} , n \\ge 1$"
      ]
    },
    {
      "cell_type": "code",
      "metadata": {
        "colab": {
          "base_uri": "https://localhost:8080/"
        },
        "id": "__2TNsNsWDmK",
        "outputId": "a5604c2a-b79d-4ec5-bdad-a501967c9bbc"
      },
      "source": [
        "import math\n",
        "# Implementamos la funcion para calcular Pn.\n",
        "def pN(p0):\n",
        "    return ((math.e ** p0) / 3) ** (1 / 2)\n",
        "\n",
        "metodo_Aitken(0.75, 5, pN)"
      ],
      "execution_count": 29,
      "outputs": [
        {
          "output_type": "stream",
          "text": [
            "n    Pn        Pn      \n",
            "=========================\n",
            "0    0.75000   0.65193133\n",
            "1    0.95189   0.00000000\n",
            "2    1.56940   0.00000000\n",
            "3    2.58750   0.00000000\n",
            "4    4.26607  -0.00000000\n",
            "5    7.03357   0.00000000\n"
          ],
          "name": "stdout"
        }
      ]
    },
    {
      "cell_type": "markdown",
      "metadata": {
        "id": "wX6gdr29T4Og"
      },
      "source": [
        "c. $p_0 = 0.5 , P_n = 3^{-P_{n-1}} , n \\ge 1$"
      ]
    },
    {
      "cell_type": "code",
      "metadata": {
        "colab": {
          "base_uri": "https://localhost:8080/"
        },
        "id": "oGDsuRr4YlFN",
        "outputId": "d6bdeea7-62dd-40f1-d5db-e53bb807e208"
      },
      "source": [
        "# Implementamos la funcion para calcular Pn.\n",
        "def pN(p0):\n",
        "    return 3 ** (-1 * p0)\n",
        "\n",
        "metodo_Aitken(0.5, 5, pN)"
      ],
      "execution_count": 30,
      "outputs": [
        {
          "output_type": "stream",
          "text": [
            "n    Pn        Pn      \n",
            "=========================\n",
            "0    0.50000   1.00000000\n",
            "1    0.33333   0.00000000\n",
            "2    0.11111   0.00000000\n",
            "3    0.03704   0.00000000\n",
            "4    0.01235   0.00000000\n",
            "5    0.00412   0.00000000\n"
          ],
          "name": "stdout"
        }
      ]
    },
    {
      "cell_type": "markdown",
      "metadata": {
        "id": "8_EU3EV7igHM"
      },
      "source": [
        "## Método de Steffensen\n",
        "Implementación del método de Steffense"
      ]
    },
    {
      "cell_type": "code",
      "metadata": {
        "id": "m9r1FUA-ZrE6"
      },
      "source": [
        "def metodo_steffensen(p0, N, g):\n",
        "    '''Método de Steffensen\n",
        "    Parámetros:  \n",
        "    p0: Es una aproximación inicial.  \n",
        "    N: Es el número de iteraciones a realizar.  \n",
        "    g: Es una funcion de punto fijo g(x).\n",
        "    '''\n",
        "    print('n    p0        p1        p3')\n",
        "    print('================================')\n",
        "    # Iniciamos la iteración\n",
        "    for i in range(0, N):\n",
        "        # Calculamos p1 evaluando la funcion con p0\n",
        "        p1 = g(p0)\n",
        "        # Calculamos p2 evaluando la funcion con p1\n",
        "        p2 = g(p1)\n",
        "        # Calculamos p\n",
        "        p = p0 - ((p1 - p0) ** 2) / (p2 - (2 * p1) + p0)\n",
        "        print(\"%1i %10.5f %9.5f %9.5f\"%(i, p0, p1, p2))\n",
        "        # Asignamos el valor de p a p0 para la siguiente iteración\n",
        "        p0 = p"
      ],
      "execution_count": 31,
      "outputs": []
    },
    {
      "cell_type": "markdown",
      "metadata": {
        "id": "UbQ_RMvUaSXU"
      },
      "source": [
        "3. Sea $g(x) = cos(x-1)$ y $p_{0}^{(0)} = 2$. Use el médoto de Steffensen para encontrar $p_{0}^{(1)}$.\n",
        "\n"
      ]
    },
    {
      "cell_type": "code",
      "metadata": {
        "id": "rbXIumf4cnMC",
        "colab": {
          "base_uri": "https://localhost:8080/"
        },
        "outputId": "651558fc-f7c5-4ebe-ba4b-2b0898d8cc53"
      },
      "source": [
        "import math\n",
        "# Implementamos la función g(x).\n",
        "def g(x):\n",
        "    return math.cos(x - 1)\n",
        "\n",
        "metodo_steffensen(2, 2, g)"
      ],
      "execution_count": 32,
      "outputs": [
        {
          "output_type": "stream",
          "text": [
            "n    p0        p1        p3\n",
            "================================\n",
            "0    2.00000   0.54030   0.89619\n",
            "1    0.82643   0.98497   0.99989\n"
          ],
          "name": "stdout"
        }
      ]
    },
    {
      "cell_type": "markdown",
      "metadata": {
        "id": "qVc0NbPhdlY9"
      },
      "source": [
        "4. Sea $g(x) = 1 + sen(x)^2$ y $p_0^{(0)} = 1$. Use el médoto de Steffensen para encontrar $p_0^{(1)}$ y $p_0^{(2)}$."
      ]
    },
    {
      "cell_type": "code",
      "metadata": {
        "id": "240ZxZpgenjL",
        "colab": {
          "base_uri": "https://localhost:8080/"
        },
        "outputId": "5953e30d-6798-4f9c-a52b-5e887aa7c6b5"
      },
      "source": [
        "import math\n",
        "# Implementamos la función g(x).\n",
        "def g(x):\n",
        "    return 1 + (math.sin(x)) ** 2\n",
        "\n",
        "metodo_steffensen(1, 3, g)"
      ],
      "execution_count": 33,
      "outputs": [
        {
          "output_type": "stream",
          "text": [
            "n    p0        p1        p3\n",
            "================================\n",
            "0    1.00000   1.70807   1.98127\n",
            "1    2.15290   1.69774   1.98397\n",
            "2    1.87346   1.91116   1.88856\n"
          ],
          "name": "stdout"
        }
      ]
    }
  ]
}